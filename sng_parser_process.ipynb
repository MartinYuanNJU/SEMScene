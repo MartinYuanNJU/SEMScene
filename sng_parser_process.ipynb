{
 "cells": [
  {
   "cell_type": "code",
   "execution_count": null,
   "id": "277790cc",
   "metadata": {},
   "outputs": [],
   "source": [
    "import joblib\n",
    "import json\n",
    "import os\n",
    "import sng_parser\n",
    "import string\n",
    "from tqdm import tqdm"
   ]
  },
  {
   "cell_type": "code",
   "execution_count": null,
   "id": "2f4b24ae",
   "metadata": {},
   "outputs": [],
   "source": [
    "def solve(file):\n",
    "    a = joblib.load(file)\n",
    "    result = {}\n",
    "    for id, val in tqdm(a.items()):\n",
    "        sent = val['sent']\n",
    "        graph = sng_parser.parse(sent)\n",
    "        objs = [word['head'] for word in graph['entities']]\n",
    "        rels = [[objs[rel['subject']], rel['relation'], objs[rel['object']]] for rel in graph['relations']]\n",
    "        result[id] = {'sent': sent, 'rels': rels}\n",
    "    joblib.dump(result, file[:-7] + ' (2)' + file[-7:])"
   ]
  },
  {
   "cell_type": "code",
   "execution_count": null,
   "id": "e321fa3f",
   "metadata": {},
   "outputs": [],
   "source": [
    "solve('./data_flickr30k/data/flickr30k_test_lowered_caps_data.joblib')\n",
    "solve('./data_flickr30k/data/flickr30k_val_lowered_caps_data.joblib')\n",
    "solve('./data_flickr30k/data/flickr30k_train_lowered_caps_data.joblib')\n",
    "solve('./data_mscoco/data/mscoco_test2014_caps_data.joblib')\n",
    "solve('./data_mscoco/data/mscoco_val2014_caps_data.joblib')\n",
    "solve('./data_mscoco/data/mscoco_train2014_caps_data.joblib')"
   ]
  },
  {
   "cell_type": "code",
   "execution_count": null,
   "id": "a17c4b48",
   "metadata": {},
   "outputs": [],
   "source": []
  }
 ],
 "metadata": {
  "kernelspec": {
   "display_name": "Python 3 (ipykernel)",
   "language": "python",
   "name": "python3"
  },
  "language_info": {
   "codemirror_mode": {
    "name": "ipython",
    "version": 3
   },
   "file_extension": ".py",
   "mimetype": "text/x-python",
   "name": "python",
   "nbconvert_exporter": "python",
   "pygments_lexer": "ipython3",
   "version": "3.9.12"
  }
 },
 "nbformat": 4,
 "nbformat_minor": 5
}
